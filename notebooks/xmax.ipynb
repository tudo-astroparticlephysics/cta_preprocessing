{
 "cells": [
  {
   "cell_type": "code",
   "execution_count": 2,
   "metadata": {
    "ExecuteTime": {
     "end_time": "2018-09-13T08:44:34.583257Z",
     "start_time": "2018-09-13T08:44:31.898260Z"
    },
    "collapsed": true
   },
   "outputs": [],
   "source": [
    "import numpy as np\n",
    "import matplotlib.pyplot as plt\n",
    "from mpl_toolkits.mplot3d import Axes3D\n",
    "import fact.io\n",
    "from ctapipe.instrument import get_atmosphere_profile_functions\n",
    "import astropy.units as u\n",
    "\n",
    "%matplotlib inline"
   ]
  },
  {
   "cell_type": "code",
   "execution_count": 5,
   "metadata": {
    "ExecuteTime": {
     "end_time": "2018-09-13T08:44:58.082414Z",
     "start_time": "2018-09-13T08:44:57.895871Z"
    },
    "scrolled": true
   },
   "outputs": [],
   "source": [
    "thickness, altitude = get_atmosphere_profile_functions('paranal')\n",
    "\n",
    "df = fact.io.read_data('../prod3/gamma/gamma_20deg_0deg_run501___cta-prod3-merged_desert-2150m-Paranal-3HB89-NGFD.hdf5', key='array_events').dropna()\n",
    "# print(df.describe())\n",
    "\n",
    "\n",
    "\n",
    "# bins = np.linspace(-10000, 20000, 20)\n",
    "# plt.hist(df.h_max_prediction, histtype='step', lw=2, bins=bins, label='estimation')\n",
    "# plt.hist(mc_h_max, histtype='step', lw=2, bins=bins, label='truth')\n",
    "# plt.legend()\n",
    "# #     x_max = event.mc.x_max\n",
    "#     print(x_max, altitude(x_max))"
   ]
  },
  {
   "cell_type": "code",
   "execution_count": 6,
   "metadata": {
    "ExecuteTime": {
     "end_time": "2018-09-13T08:44:58.726416Z",
     "start_time": "2018-09-13T08:44:58.709734Z"
    }
   },
   "outputs": [
    {
     "data": {
      "text/plain": [
       "Index(['alt_prediction', 'array_event_id', 'az_prediction',\n",
       "       'core_x_prediction', 'core_y_prediction', 'h_max_prediction', 'mc_alt',\n",
       "       'mc_az', 'mc_core_x', 'mc_core_y', 'mc_corsika_primary_id', 'mc_energy',\n",
       "       'mc_height_first_interaction', 'mc_x_max', 'num_triggered_lst',\n",
       "       'num_triggered_mst', 'num_triggered_sst', 'num_triggered_telescopes',\n",
       "       'run_id', 'total_intensity'],\n",
       "      dtype='object')"
      ]
     },
     "execution_count": 6,
     "metadata": {},
     "output_type": "execute_result"
    }
   ],
   "source": [
    "df.columns"
   ]
  },
  {
   "cell_type": "code",
   "execution_count": 43,
   "metadata": {
    "ExecuteTime": {
     "end_time": "2018-07-05T12:55:26.078176Z",
     "start_time": "2018-07-05T12:55:25.869662Z"
    }
   },
   "outputs": [
    {
     "data": {
      "image/png": "[encoded data removed]",
      "text/plain": [
       "<Figure size 432x288 with 1 Axes>"
      ]
     },
     "metadata": {},
     "output_type": "display_data"
    }
   ],
   "source": [
    "plt.hist2d(mc_h_max, df.h_max_prediction, bins=bins)\n",
    "None"
   ]
  },
  {
   "cell_type": "code",
   "execution_count": null,
   "metadata": {
    "collapsed": true
   },
   "outputs": [],
   "source": []
  }
 ],
 "metadata": {
  "kernelspec": {
   "display_name": "Python 3",
   "language": "python",
   "name": "python3"
  },
  "language_info": {
   "codemirror_mode": {
    "name": "ipython",
    "version": 3
   },
   "file_extension": ".py",
   "mimetype": "text/x-python",
   "name": "python",
   "nbconvert_exporter": "python",
   "pygments_lexer": "ipython3",
   "version": "3.6.5"
  }
 },
 "nbformat": 4,
 "nbformat_minor": 2
}
